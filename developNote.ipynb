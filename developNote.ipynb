{
 "cells": [
  {
   "cell_type": "markdown",
   "metadata": {},
   "source": [
    "## logo\n",
    "https://www.flaticon.com/search?word=ai%20pencil\n",
    "\n",
    "\n",
    "\n",
    "# 可以参考\n",
    "主页\n",
    "https://www.notion.so/\n",
    "\n",
    "\n",
    "## 样板\n",
    "主页\n",
    "https://www.atlassian.com/software/confluence?&aceid=&adposition=&adgroup=144874488655&campaign=19280571334&creative=641617311327&device=c&keyword=markdown%20editor&matchtype=b&network=g&placement=&ds_kids=p77858981861&ds_e=GOOGLE&ds_eid=700000001542923&ds_e1=GOOGLE&gad_source=1&gclid=CjwKCAjw4f6zBhBVEiwATEHFVpm6Qs0gn9ccCKU7s4EOruwFsYp0hXhcc6GnH8OErpjwaMJdR9wY7RoCX7UQAvD_BwE&gclsrc=aw.ds\n",
    "\n",
    "\n",
    "\n",
    "登陆\n",
    "https://www.notion.so/login\n",
    "\n",
    "采用邮箱登陆\n",
    "\n",
    "\n",
    "\n",
    "//在使用 Vite 的项目中，public 目录下的文件会被直接映射到服务器的根路径。\n"
   ]
  },
  {
   "cell_type": "code",
   "execution_count": null,
   "metadata": {},
   "outputs": [],
   "source": []
  }
 ],
 "metadata": {
  "language_info": {
   "name": "python"
  }
 },
 "nbformat": 4,
 "nbformat_minor": 2
}
