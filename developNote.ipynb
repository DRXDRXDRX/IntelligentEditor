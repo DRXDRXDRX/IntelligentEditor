{
 "cells": [
  {
   "cell_type": "markdown",
   "metadata": {},
   "source": [
    "## logo\n",
    "https://www.flaticon.com/search?word=ai%20pencil\n",
    "\n",
    "\n",
    "\n",
    "# 可以参考\n",
    "主页\n",
    "https://www.notion.so/\n",
    "\n",
    "\n",
    "\n",
    "## 字体\n",
    "衡水粗体标题              font-family:'Segoe UI', Tahoma, Verdana, sans-serif;\n",
    "\n",
    "\n",
    "\n",
    "\n",
    "## 样板\n",
    "主页\n",
    "https://www.atlassian.com/software/confluence?&aceid=&adposition=&adgroup=144874488655&campaign=19280571334&creative=641617311327&device=c&keyword=markdown%20editor&matchtype=b&network=g&placement=&ds_kids=p77858981861&ds_e=GOOGLE&ds_eid=700000001542923&ds_e1=GOOGLE&gad_source=1&gclid=CjwKCAjw4f6zBhBVEiwATEHFVpm6Qs0gn9ccCKU7s4EOruwFsYp0hXhcc6GnH8OErpjwaMJdR9wY7RoCX7UQAvD_BwE&gclsrc=aw.ds\n",
    "\n",
    "\n",
    "\n",
    "# edit 页面参考\n",
    "https://www.cnblogs.com/xfbk/p/16271196.html\n",
    "标题名称启动的时候采用打字形式出现，\n",
    "恒现的时候尾部出现_符号闪烁\n",
    "支持设定背景图（用户自定义），标题名后面闪动光标\n",
    "标题下方出现上一次修改的时间，修改的次数，字数统计，编写的总时长等等展示（采用ta的favicon图）\n",
    "最部的图片下方出现目前所在的页面的进度条\n",
    "\n",
    "\n",
    "\n",
    "登陆\n",
    "https://www.notion.so/login\n",
    "\n",
    "采用邮箱登陆\n",
    "\n",
    " Remix Icon 图标库 帮我找找  ；告诉我如何在这个图标库中找到自己想要的\n",
    "\n",
    "\n",
    "//在使用 Vite 的项目中，public 目录下的文件会被直接映射到服务器的根路径。\n"
   ]
  },
  {
   "cell_type": "markdown",
   "metadata": {},
   "source": [
    "# 网页介绍内容参考\n",
    "智能续写 - 基于上下文自动生成内容。\n",
    "图像问答 - 分析并回答有关图片的问题。\n",
    "音频转为文字 - 将语音内容转录为文字。\n",
    "全文翻译 - 自动翻译文档内容。\n",
    "智能润色 - 自然语言处理优化和校对文本。\n",
    "知识库提问 - 通过内置知识库回答问题。\n",
    "文档管理 - 管理和组织文档。\n",
    "实时同步 - 即时更新和保存协作内容。\n",
    "多端同步 - 在不同设备之间同步数据。\n",
    "智能图像OCR - 从图像中提取文字。\n",
    "智能对话 - 基于GPT模型的对话功能。\n",
    "智能数据可视化 - 例如，选中文本后自动生成思维导图。"
   ]
  },
  {
   "cell_type": "markdown",
   "metadata": {},
   "source": [
    "# 下拉菜单的实现\n",
    "\n",
    "<a-dropdown>是Ant Design Vue中的下拉菜单组件，包含两个插槽：\n",
    "\n",
    "#default：用于触发下拉菜单的元素。\n",
    "#overlay：下拉菜单的内容。\n",
    "<a-menu>：这是Ant Design Vue的菜单组件。\n",
    "<a-menu-item>：这是菜单中的每一项，包含一个链接。\n",
    "<a>：这是标准的HTML链接标签。\n",
    "target=\"_blank\"：表示链接会在新标签页中打开。\n",
    "rel=\"noopener noreferrer\"：这是安全属性，防止新标签页中的页面获得对原页面的引用，增强安全性。"
   ]
  },
  {
   "cell_type": "markdown",
   "metadata": {},
   "source": [
    "```vue\n",
    "<template>\n",
    "    <div id=\"components-dropdown-demo-placement\">\n",
    "      <a-dropdown>\n",
    "\n",
    "        <template #default>\n",
    "        # 这是绑定的插槽default\n",
    "          <a-button>Dropdown</a-button>\n",
    "        </template>\n",
    "\n",
    "\n",
    "        <template #overlay>\n",
    "          <a-menu>\n",
    "            <a-menu-item>\n",
    "              <a target=\"_blank\" rel=\"noopener noreferrer\" href=\"http://www.alipay.com/\">1st menu item</a>\n",
    "            </a-menu-item>\n",
    "            <a-menu-item>\n",
    "              <a target=\"_blank\" rel=\"noopener noreferrer\" href=\"http://www.taobao.com/\">2nd menu item</a>\n",
    "            </a-menu-item>\n",
    "            <a-menu-item>\n",
    "              <a target=\"_blank\" rel=\"noopener noreferrer\" href=\"http://www.tmall.com/\">3rd menu item</a>\n",
    "            </a-menu-item>\n",
    "          </a-menu>\n",
    "        </template>\n",
    "\n",
    "\n",
    "        \n",
    "      </a-dropdown>\n",
    "    </div>\n",
    "  </template>\n",
    "\n",
    "```"
   ]
  },
  {
   "cell_type": "code",
   "execution_count": null,
   "metadata": {},
   "outputs": [],
   "source": []
  },
  {
   "cell_type": "markdown",
   "metadata": {},
   "source": [
    "## 插槽的含义和用法"
   ]
  },
  {
   "cell_type": "markdown",
   "metadata": {},
   "source": [
    "# 保存小工具箱的modellist\n"
   ]
  },
  {
   "cell_type": "markdown",
   "metadata": {},
   "source": [
    "```html\n",
    "<ul style=\"list-style-type: none;margin:0;position:relative;left:-40px;\">\n",
    "              <!-- 在 CSS 中，left 属性仅对定位元素（即设置了 position: relative;, position: absolute;, 或 position: fixed; 的元素）有效 -->\n",
    "              <button>\n",
    "                <li @click=\"selectModel('engine3.5')\" style=\"list-style-type: none; /* 移除项目符号 */\n",
    "                                                    padding: 0px; /* 移除内边距 */\n",
    "                                                    margin: 0px; /* 移除外边距 */\n",
    "                                                    \">\n",
    "                  <i class=\"ri-flashlight-fill\" style=\"color:green;font-size:medium\" >\n",
    "                  </i>\n",
    "                  <a style=\"margin-left:5px;\">erine-3.5</a>\n",
    "                </li>\n",
    "              </button>\n",
    "              <button>\n",
    "                <li @click=\"selectModel('engine4.0')\" style=\"list-style-type: none; /* 移除项目符号 */\n",
    "                                                    padding: 0; /* 移除内边距 */\n",
    "                                                    margin: 0; /* 移除外边距 */\">\n",
    "                <i class=\"ri-flashlight-fill\" style=\"color:purple;font-size:medium\">\n",
    "                </i>\n",
    "                <a  style=\"margin-left:5px;\">erine-4.0</a>\n",
    "                </li>\n",
    "              </button>\n",
    "              <button>\n",
    "                <li @click=\"selectModel('engine4.0-turbo')\" style=\"list-style-type: none; /* 移除项目符号 */\n",
    "                                                    padding: 0; /* 移除内边距 */\n",
    "                                                    margin: 0; /* 移除外边距 */\">\n",
    "                <i class=\"ri-flashlight-fill\" style=\"color:purple;font-size:medium\" ]>\n",
    "                </i>\n",
    "                <a  style=\"margin-left:5px;\">erine-4.0-turbo</a>\n",
    "                </li>\n",
    "              </button>\n",
    "             \n",
    "            </ul>\n",
    "```"
   ]
  },
  {
   "cell_type": "code",
   "execution_count": null,
   "metadata": {},
   "outputs": [],
   "source": [
    "在HTML中，<p> 标签内的 justify-content 和 align-items 属性是无效的，因为这些是Flexbox布局的属性，仅在使用 display: flex; 的容器上有效。在你的代码中，<p> 标签已经设置为 display: flex;，但是 justify-content 和 align-items 应用于它自身并不会对其内部的文本产生垂直居中的效果，因为 <p> 标签内部没有显示为flex项的子元素。"
   ]
  },
  {
   "cell_type": "code",
   "execution_count": null,
   "metadata": {},
   "outputs": [],
   "source": [
    "\n",
    "  .model_container {\n",
    "    position: relative;\n",
    "    display: inline-block;\n",
    "    /* inline（内联元素）：内联元素不会开始新的行，它们通常出现在文本之中，如 <span>。内联元素的宽度和高度由其内容决定，不能通过CSS直接设置。 */\n",
    "      /* block（块级元素）：块级元素会占据它所在的整个容器的宽度，每个块级元素前后都会有换行，如 <div>。块级元素可以设置宽度、高度、外边距和内边距。 */\n",
    "    .model_select {\n",
    "        display:inline-block;\n",
    "        align-items: stretch;\n",
    "        height: 100%; /* 使按钮的高度和父元素的高度一致 */\n",
    "        padding: 8px;\n",
    "            }\n",
    "    \n",
    "    .model_list {\n",
    "      position: absolute;\n",
    "      background-color: white;\n",
    "      border: 3px #ccc;\n",
    "      box-shadow:0 0 5px 5px rgba(0, 0, 0, 0.1);\n",
    "      /* 设置盒子的边缘为弧形的 */\n",
    "      border-radius: 10px;\n",
    "      padding: 5px;\n",
    "      z-index: 1000;\n",
    "      top: 40px; /* 根据需要调整位置 */\n",
    "      left:8px;\n",
    "      width:230px;\n",
    "      button {\n",
    "      display: block;\n",
    "      cursor: pointer;\n",
    "      padding: 5px;\n",
    "      width:120%;\n",
    "      background-color: rgba(255, 255, 255, 0.9); /* 白色背景，50% 透明度 */\n",
    "      transition: background-color 0.3s ease-in-out; /* 过渡效果 */\n",
    "      border:transparent;\n",
    "      }\n",
    "      a{\n",
    "        font-family: 'Microsoft YaHei', sans-serif;\n",
    "        font-size: 90%;\n",
    "        font-weight: 500;\n",
    "        color:grey;\n",
    "      }\n",
    "      li{\n",
    "        display: flex;\n",
    "        align-items: center;\n",
    "      }\n",
    "  }\n",
    "  .model_list button:hover {\n",
    "    background-color: #e9e6e6;\n",
    "    \n",
    "  }\n",
    "  }"
   ]
  },
  {
   "cell_type": "markdown",
   "metadata": {},
   "source": [
    "# 如何设置图标和其余的button都在这个外部的toolbox盒子内，然后要求水平排布"
   ]
  },
  {
   "cell_type": "markdown",
   "metadata": {},
   "source": [
    "2024.7.3 会议纪要TODO:\n",
    "1. 文字倾斜bug 修复\n",
    "2. 选中文字，可以点击右键：\n",
    "    - 开启右键菜单栏\n",
    "    - 其中支持复制，粘贴\n",
    "    - 注意：选中文字后点击右键后要关闭实现文字加粗倾斜等字体设置的工具栏\n",
    "3. 解决内存占用过高的问题\n",
    "4. 右边栏：\n",
    "   - 右边栏和内容编辑区域的交界处中心有一个小箭头（同样是鼠标移动到那个位置，就跳出来一个小箭头），实现右边栏的收起和释放\n",
    "   - 右边栏目上半部分是大纲，下半部分是AI区域：\n",
    "    - AI区域那里具有功能栏,类似于这样：\n",
    "        ![](https://cdn.jsdelivr.net/gh/lijiandao/picgohub@main/20240703010007.png)\n",
    "      - 选择模型\n",
    "      - 输入文字\n",
    "      - 发送给AI\n",
    "      - 截图问答\n",
    "      - 选中文件\n",
    "      - 模型模式选择（ 一个单独的小图标，移动上去后自动上弹一个菜单，选择对应的AI模式）\n",
    "      - 润色，续写，信息总结成markdown格式\n",
    "    - 上半部分和下半部分可以通过拖拉实现空间占比的调节\n",
    "    - 上半部分空间调节不会改变对应的目录信息单条目的条目栏的高度\n",
    "5. 左边栏：\n",
    "    - 一个头像，点击口弹出对应的各种个人设置按钮，点击对应的按钮即可弹出弹窗进行个人信息的设置\n",
    "      头像的旁边展示邮箱和用户名\n",
    "    - 下面展示文档文件条目信息即可\n",
    "    - 最下面提供设置按钮\n",
    "    - 左边栏提供可以收缩的按钮——按钮通过鼠标移动靠近自动伸出这个小箭头按钮\n",
    "6. 点击图像后，右键，出现菜单：\n",
    "    - 缩放图像的大小\n",
    "    - 复制图像内容\n",
    "    - OCR：选中OCR之后就屏幕变暗，类似于![](https://cdn.jsdelivr.net/gh/lijiandao/picgohub@main/20240702225827.png)这个图像的玻璃效果\n",
    "    屏幕上显示一个旋转的图标，请求结果到了后立马就从中心放大的跳出一个窗口，可编辑区域，（帮助用户更改OCR结果，复制结果），点击可编辑区域的别的地方即可关闭OCR页面；\n",
    "7. 名义上的模型端的功能的接口需求：\n",
    "    - 润色\n",
    "    - 续写\n",
    "    - 提取信息生成markdown文字格式\n",
    "    - OCR\n",
    "    - 翻译\n",
    "    - 语音识别\n",
    "    - 嵌入模型\n",
    "    实际上的模型端的功能接口需求：\n",
    "    - 生成 generate 文心大模型\n",
    "    - 文字嵌入生成\n",
    "    - 语音转文字 paddle模型\n",
    "    - 机器翻译 火山模型 每个月200万免费\n",
    " \n",
    "8. 修复图像URL不能解析的bug\n",
    "9. 查找实现将markdown转换为思维导图的工具，以及把这种将思维导图解析到markdown文档中的解析器嵌入edit编辑器内\n",
    "10. 实现语音插入markdown文档软链接——也就是文档中可以点击播放语音，插入到文档的任何部分，但是语音实际上不在文档中，在后端里面；实际上文档无法带有语音文件\n",
    "11. 实现语音转成文字的功能——右键点击文档中插入的语音，可以实现跳出可以“转文字”的按钮，转文字成功后，页面右下角跳出一个通知弹窗——显示xxx文档的语音转录成功！\n",
    "    这里插入的语音文件可以右键后，新增两个选项：一个是会议纪要（是原始内容经过前端调用“提取信息生成markdown文字格式”后的结果），一个是原始内容；分别点击后==如何呈现==\n",
    "12. 修复注册没有验证码框的bug\n",
    "13. 添加文档的下载功能——在左边的文档列表中，鼠标移动到对应的文档名称上，显示出对应的下载按钮，点击下载即可下载；\n",
    "\n",
    "负责的任务：\n",
    "drx：完成edit页面的右边部分的修改；\n",
    "lzj：完成edit页面左边部分的新建+rpc模型接口的更新\n",
    "lbb：完成接口的编写，重点在于文档的 增删改查 和图像信息（markdown文档内的图像是单独存储的）和音频数据的存储\n"
   ]
  },
  {
   "cell_type": "markdown",
   "metadata": {},
   "source": [
    "# vue3\n",
    "##  this.$refs.sidebar "
   ]
  },
  {
   "cell_type": "markdown",
   "metadata": {},
   "source": [
    "<div :class=\"['sidebar', { 'sidebar-closed': !isSidebarOpen }]\" ref=\"sidebar\">\n",
    "      <!-- 通过在元素或组件上添加 ref 属性，并赋一个字符串值（例如 \"sidebar\"），你可以在 Vue 实例中通过 this.$refs.sidebar 直接访问这个元素或组件。 -->\n",
    "      <!-- :class=\"['sidebar', { 'sidebar-closed': !isSidebarOpen }]\" 表示根据某些条件动态应用 CSS 类。 -->\n",
    "      \n",
    "       \n",
    "\n",
    " <!-- ['sidebar', ...]：数组中的第一个元素 'sidebar' 是一定的类名，无论任何条件下都将被应用。\n",
    "{ 'sidebar-closed': !isSidebarOpen }：是一个对'sidebar-closed' 为       键，而 !isSidebarOpen 为值。Vue根据 !isSidebarOpen 的布尔值来决定是  否应用 'sidebar-closed类。\n",
    "如果 isSidebarOpen 为 true，那么 !isSidebarOpen 为 false此      'sidebar-closed' 类不会被应用。\n",
    "如果 isSidebarOpen 为 false，那么 !isSidebarOpen 为 true此      'sidebar-closed' 类会被应用。 -->"
   ]
  },
  {
   "cell_type": "markdown",
   "metadata": {},
   "source": [
    "## 在Vue中，可以使用数组语法来动态绑定多个类名。\n",
    "\n",
    ":class 是 Vue.js 中的一个特殊指令，用于动态绑定一个或多个 CSS 类到一个元素上。与普通的 HTML class 属性不同，:class 可以接受更复杂、更动态的数据结构，如字符串、对象或数组，来决定应该绑定哪些类。\n",
    "\n",
    "这里，我们使用了 :class=\"['ri-question-line', 'help_icon']\"，其中 ['ri-question-line', 'help_icon'] 作为一个数组表达式。\n",
    "\n",
    "\n",
    "\n",
    "\n",
    "正确的语法示例：\n",
    "使用双引号绑定数组，数组内使用单引号\n",
    "<i :class=\"['ri-question-line', 'help_icon']\"></i>\n",
    "或者\n",
    "\n",
    "使用单引号绑定数组，数组内使用双引号\n",
    "<i :class='[\"ri-question-line\", \"help_icon\"]'></i>\n",
    "这两种都可以正确地解析。\n",
    "\n",
    "<i :class=\"['ri-question-line', 'help_icon']\"></i>\n"
   ]
  },
  {
   "cell_type": "markdown",
   "metadata": {},
   "source": [
    "你可以通过组合CSS选择器来选择 .account_email 的所有子元素，并使用相关的CSS规则来设置样式。以下是一种方法：\n",
    "\n",
    "这个选择器 > * 意思是选择 .account_email 的所有直接子元素。可以用来选中所有子元素并应用样式。\n",
    "\n"
   ]
  },
  {
   "cell_type": "markdown",
   "metadata": {},
   "source": [
    "如何设置< i class=\"ri-question-line\"></i>的大小？\n",
    " font-size:15px;"
   ]
  },
  {
   "cell_type": "markdown",
   "metadata": {},
   "source": [
    "box-sizing：border-box 什么意思？\n",
    "\n",
    "让margin包括为盒子的大小\n",
    "\n",
    "如何修改成设置为box-sizing：默认的？\n",
    "\n",
    "显式设置 box-sizing: content-box"
   ]
  },
  {
   "cell_type": "markdown",
   "metadata": {},
   "source": [
    "--icon-size 不起作用是为什么，为啥这个css属性名字前面有--\n",
    "\n",
    "\n",
    "他是css变量！\n",
    "\n",
    "\n",
    "定义 CSS 变量\n",
    "CSS 变量通常在伪类 :root 中定义，这样它们可以在整个文档中全局使用：\n",
    "\n",
    ":root {\n",
    "  --icon-size: 24px;\n",
    "}\n",
    "使用 CSS 变量\n",
    "使用 CSS 变量时，采用 var(--variable-name) 语法：\n",
    "\n",
    ".icon {\n",
    "  font-size: var(--icon-size);\n",
    "}"
   ]
  },
  {
   "cell_type": "markdown",
   "metadata": {},
   "source": [
    "## flex 布局的对齐选项\n",
    "\n",
    ".flex-container {\n",
    "  display: flex;\n",
    "  justify-content: center; /* 水平居中对齐 */\n",
    "  align-items: center; /* 垂直居中对齐 */\n",
    "}"
   ]
  },
  {
   "cell_type": "markdown",
   "metadata": {},
   "source": [
    "## 取消边框\n",
    "    border:none;\n"
   ]
  },
  {
   "cell_type": "markdown",
   "metadata": {},
   "source": [
    "## 背景渐变\n",
    "    background-image: linear-gradient(to right, #ff7e5f, #feb47b); /* 从左到右的渐变 */\n"
   ]
  },
  {
   "cell_type": "markdown",
   "metadata": {},
   "source": [
    "## 正确的边角radius\n",
    "    border-radius: 3px; /* 修正属性名 */\n"
   ]
  },
  {
   "cell_type": "markdown",
   "metadata": {},
   "source": [
    "  padding:4px 4px 8px 8px ;\n",
    "\n",
    "  在CSS中，padding属性的四个值分别对应于元素的上、右、下、左内边距。所以，对于padding: 4px 4px 8px 8px;：\n",
    "\n",
    "第一个4px对应于上内边距（Top padding）。\n",
    "第二个4px对应于右内边距（Right padding）。\n",
    "第三个8px对应于下内边距（Bottom padding）。\n",
    "第四个8px对应于左内边距（Left padding）"
   ]
  },
  {
   "cell_type": "markdown",
   "metadata": {},
   "source": [
    "对于 Flexbox 布局，justify-content 的常见值包括：\n",
    "\n",
    "flex-start：项目被挤在一起向行的起始位置排列。\n",
    "flex-end：项目被挤在一起向行的结束位置排列。\n",
    "center：项目在行中居中排列。\n",
    "space-between：项目之间的间隔相等，第一个项目在行的起始位置，最后一个项目在行的结束位置。\n",
    "space-around：项目周围的间隔相等。\n",
    "space-evenly：项目之间和周围的间隔完全相等。"
   ]
  },
  {
   "cell_type": "markdown",
   "metadata": {},
   "source": [
    "      outline: none;\n",
    "关闭自动的移动元素获得焦点的框框\n",
    "\n",
    "\n"
   ]
  },
  {
   "cell_type": "markdown",
   "metadata": {},
   "source": [
    "如何禁用元素的css样式对其余元素的影响\n",
    "无法做到！"
   ]
  },
  {
   "cell_type": "markdown",
   "metadata": {},
   "source": [
    "add_new_doc{ padding: 10px; margin: 10px; border: none; font_color :black; background-color: #F0EFE6; color: white; border-radius: 8px; cursor: pointer; transition: 0.3s ease-in-out; } button里面的文字如何设置颜色？"
   ]
  },
  {
   "cell_type": "markdown",
   "metadata": {},
   "source": [
    "v-for使用的id 是从几到几？\n",
    "\n",
    "答案是，只要不一样即可\n",
    "\n",
    "\n"
   ]
  },
  {
   "cell_type": "markdown",
   "metadata": {},
   "source": [
    "    targetHistory.value.splice(originalIndexToDelete, 1);\n",
    " 如何理解\n",
    "\n",
    "\n",
    "\n",
    " targetHistory.value.splice(originalIndexToDelete, 1);的意思是：从targetHistory.value数组中删除位于originalIndexToDelete索引位置的一个元素。这个操作会直接修改原数组，并且是响应式的，意味着在Vue组件中使用这个数据的任何地方都会自动更新以反映这个变化。"
   ]
  },
  {
   "cell_type": "markdown",
   "metadata": {},
   "source": [
    "## 悬浮放大\n",
    " .second_section:hover {\n",
    "  transform: scale(1.05);\n",
    "  box-shadow: 10 10px 20px rgba(0, 0, 0, 0.4);\n",
    "\n",
    "  }\n",
    "  .first_section:hover{\n",
    "    transform: scale(1.05);\n",
    "    box-shadow: 10 10px 20px rgba(0, 0, 0, 0.4);\n",
    "  }"
   ]
  },
  {
   "cell_type": "markdown",
   "metadata": {},
   "source": [
    "## 让一个div位于页面的中央\n",
    "要使 .info_present_container 位于页面的中央，即左右两边距离相等，你可以使用 margin: auto; 来自动调整左右边距。此外，确保其父元素（或者 <body> 元素，如果它没有父元素）的宽度设置为100%。这样，.info_present_container 将自动居中对齐。\n",
    "\n",
    "更新的 CSS 如下：\n",
    "```css\n",
    ".info_present_container {\n",
    "  position: relative;\n",
    "  width: 88vw;\n",
    "  overflow: hidden;\n",
    "  display: block;\n",
    "  margin-left: auto; /* 自动调整左边距 */\n",
    "  margin-right: auto; /* 自动调整右边距 */\n",
    "}\n",
    "```\n",
    "\n"
   ]
  },
  {
   "cell_type": "markdown",
   "metadata": {},
   "source": [
    "## 构建轮播图的时候，需要构建一个长条的幻灯片\n",
    " 如果父元素 display: flex ；\n",
    " 那么子元素默认情况下是横向的排列；\n",
    " .slides {\n",
    "      display: flex;\n",
    "      //.slides 设置为 display: flex;：\n",
    "      // 这意味着 .slide 元素将被作为子元素以横向（行方向）排列。\n",
    "      //当使用 display: flex 时，默认情况下，Flexbox 布局的主轴是水平的，因此其子元素会沿水平方向排列。要实现垂直排列，需要显式地将主轴方向设置为垂直方向。具体来说，使用 flex-direction: column 来将子元素垂直排列。\n",
    "      height: 100%;\n",
    "      transition: transform 0.5s ease-in-out;\n",
    "      .slide {\n",
    "        min-width: 100%;\n",
    "        display: flex;\n",
    "        align-items: center;\n",
    "        justify-content: center;\n",
    "        transition: all 0.5s ease, box-shadow 0.3s ease;\n",
    "        background-size: cover;\n",
    "        background-position: center;\n",
    "        .content {\n",
    "          text-align: center;\n",
    "          color: #fff;\n",
    "          h1 {\n",
    "            font-size: 3em;\n",
    "            font-family: 'Gill Sans', 'Gill Sans MT', Calibri, 'Trebuchet MS', sans-serif;\n",
    "            margin: 0.5em 0;\n",
    "          }\n",
    "          p {\n",
    "            font-size: 1.5em;\n",
    "            margin: 0.5em 0;\n",
    "            font-family: Impact, Haettenschweiler, 'Arial Narrow Bold', sans-serif;\n",
    "          }\n",
    "          button {\n",
    "            margin-top: 20px;\n",
    "            padding: 0.5em 1em;\n",
    "            font-size: 1.1em;\n",
    "            font-family: Impact, Haettenschweiler, 'Arial Narrow Bold', sans-serif;\n",
    "            border: none;\n",
    "            border-radius: 30px;\n",
    "            background: #fff;\n",
    "            color: #333;\n",
    "            cursor: pointer;\n",
    "          }\n",
    "          button:hover {\n",
    "            background: #f0f0f0;\n",
    "          }\n",
    "        }\n",
    "        &:hover {\n",
    "          transform: scale(1.1);\n",
    "          box-shadow: 0 10px 10px rgba(0, 0, 0, 0.4);\n",
    "        }\n",
    "      }\n",
    "    }"
   ]
  },
  {
   "cell_type": "markdown",
   "metadata": {},
   "source": [
    "列表（元素为对象）的访问：\n",
    "let title_descrip_pair = [{title:\"智能润色\",description:\"自然语言处理优化和校对文本\"},\n",
    "                          {title:\"智能续写\",description:\"基于上下文自动生成内容\"},\n",
    "                          {title:\"音频转文字\",description:\"将语音内容转录为文字\"},\n",
    "                          {title:\"全文翻译\",description:\"自动翻译文档内容\"},\n",
    "                          {title:\"图像问答\",description:\"分析并回答有关图片的问题\"},\n",
    "                          {title:\"知识库提问\",description:\"通过内置知识库回答问题\"},\n",
    "                          {title:\"文档管理\",description:\"管理和组织文档\"},\n",
    "                          {title:\"实时同步\",description:\"即时更新和保存协作内容\"},\n",
    "                          {title:\"多端同步\",description:\"在不同设备之间同步数据\"},\n",
    "                          {title:\"智能图像OCR\",description:\"从图像中提取文字\"},\n",
    "                          {title:\"智能对话\",description:\"基于GPT模型的对话功能\"},\n",
    "                          {title:\"智能数据可视化\",description:\"选中文本后自动生成思维导图\"}\n",
    "                          ]\n",
    "这两个均可：\n",
    " caption: `${title_descrip_pair[i - 10001].description}`,\n",
    "    title:`${title_descrip_pair[i - 10001]['title']}`"
   ]
  },
  {
   "cell_type": "markdown",
   "metadata": {},
   "source": [
    "## 关于阴影\n",
    "    box-shadow: 10px rgba(0, 0, 0, 0.1); 中10px的意思：\n",
    "    10px表示阴影在水平方向上的偏移量。具体来说，10px意味着阴影将向元素的右侧偏移10像素。如果该值为负数，则阴影会向左偏移。\n",
    "\n",
    "然而，这段代码缺少了垂直偏移量和可选的模糊半径、扩展半径值。一个完整的box-shadow属性至少需要水平偏移、垂直偏移和颜色值。例如：\n",
    "box-shadow: 10px 5px 5px rgba(0, 0, 0, 0.1);\n",
    "这里，10px是水平偏移，5px是垂直偏移，第二个5px是模糊半径，而rgba(0, 0, 0, 0.1)定义了阴影的颜色和透明度。\n",
    "\n"
   ]
  },
  {
   "cell_type": "markdown",
   "metadata": {},
   "source": [
    "## 采用@click函数事件跳转页面并传入这个页面变量\n",
    "完整的代码 this.$router.push('/article'); 做的事情是指示当前应用导航到路径为 /article 的页面/视图。\n",
    "\n",
    "\n",
    "Article_jump_processor() {\n",
    "      this.$router.push('/article');\n",
    "    }\n",
    "\n",
    "\n",
    "\n",
    "\n"
   ]
  },
  {
   "cell_type": "markdown",
   "metadata": {},
   "source": [
    "## 多个onmounted函数覆盖讨论\n",
    "\n",
    "```js\n",
    "onMounted(() => {\n",
    "  const markdownPath = './help_articles/1.md'; // 替换为实际的Markdown文件路径\n",
    "  loadMarkdown(markdownPath);\n",
    "});\n",
    "\n",
    "\n",
    "\n",
    "//实现文档阅读进度条\n",
    "const lineWidth = ref(0);\n",
    "\n",
    "const updateLineWidth = () => {\n",
    "  const scrollTop = window.scrollY;\n",
    "  const docHeight = document.documentElement.scrollHeight - window.innerHeight;\n",
    "  lineWidth.value = (scrollTop / docHeight) * 100;\n",
    "};\n",
    "\n",
    "onMounted(() => {\n",
    "  window.addEventListener('scroll', updateLineWidth);\n",
    "  updateLineWidth(); // 初始加载时更新一次\n",
    "});\n",
    "```\n",
    "代码中的后者的onmounted代码会覆盖掉前者吗\n",
    "\n",
    "不会。在 Vue 3 中，onMounted 钩子可以被多次调用，并且每次调用都会注册一个新的挂载完成后的回调函数。这意味着，你的第一个 onMounted 钩子中的代码会在组件挂载完成时执行，紧接着第二个 onMounted 钩子中的代码也会执行。它们不会相互覆盖，而是按照它们被定义的顺序执行。"
   ]
  }
 ],
 "metadata": {
  "language_info": {
   "name": "python"
  }
 },
 "nbformat": 4,
 "nbformat_minor": 2
}
